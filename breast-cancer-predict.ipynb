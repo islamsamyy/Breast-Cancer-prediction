{
 "cells": [
  {
   "cell_type": "code",
   "execution_count": 1,
   "id": "4e7d14dd",
   "metadata": {
    "_cell_guid": "b1076dfc-b9ad-4769-8c92-a6c4dae69d19",
    "_uuid": "8f2839f25d086af736a60e9eeb907d3b93b6e0e5",
    "execution": {
     "iopub.execute_input": "2024-12-08T23:27:40.356221Z",
     "iopub.status.busy": "2024-12-08T23:27:40.355372Z",
     "iopub.status.idle": "2024-12-08T23:27:44.133020Z",
     "shell.execute_reply": "2024-12-08T23:27:44.131941Z"
    },
    "papermill": {
     "duration": 3.788757,
     "end_time": "2024-12-08T23:27:44.136951",
     "exception": false,
     "start_time": "2024-12-08T23:27:40.348194",
     "status": "completed"
    },
    "tags": []
   },
   "outputs": [
    {
     "name": "stdout",
     "output_type": "stream",
     "text": [
      "/kaggle/input/breast-cancer/Breast_Cancer.csv\n"
     ]
    }
   ],
   "source": [
    "# This Python 3 environment comes with many helpful analytics libraries installed\n",
    "# It is defined by the kaggle/python Docker image: https://github.com/kaggle/docker-python\n",
    "# For example, here's several helpful packages to load\n",
    "\n",
    "import numpy as np # linear algebra\n",
    "import pandas as pd # data processing, CSV file I/O (e.g. pd.read_csv)\n",
    "import seaborn as sns \n",
    "import matplotlib.pyplot as plt \n",
    "from sklearn.model_selection import train_test_split \n",
    "from sklearn.linear_model import LogisticRegression \n",
    "from sklearn.ensemble import GradientBoostingRegressor \n",
    "from sklearn.ensemble import RandomForestClassifier \n",
    "from sklearn.svm import SVC \n",
    "from xgboost import XGBClassifier \n",
    "\n",
    "from sklearn.neighbors import KNeighborsClassifier\n",
    "from sklearn.metrics import accuracy_score , precision_score , recall_score , f1_score , classification_report\n",
    "\n",
    "from sklearn.preprocessing import LabelEncoder\n",
    "from imblearn.over_sampling import RandomOverSampler\n",
    "\n",
    "import warnings \n",
    "warnings.filterwarnings('ignore')\n",
    "\n",
    "# Input data files are available in the read-only \"../input/\" directory\n",
    "# For example, running this (by clicking run or pressing Shift+Enter) will list all files under the input directory\n",
    "\n",
    "import os\n",
    "for dirname, _, filenames in os.walk('/kaggle/input'):\n",
    "    for filename in filenames:\n",
    "        print(os.path.join(dirname, filename))\n",
    "\n",
    "# You can write up to 20GB to the current directory (/kaggle/working/) that gets preserved as output when you create a version using \"Save & Run All\" \n",
    "# You can also write temporary files to /kaggle/temp/, but they won't be saved outside of the current session"
   ]
  },
  {
   "cell_type": "code",
   "execution_count": 2,
   "id": "3c54e390",
   "metadata": {
    "execution": {
     "iopub.execute_input": "2024-12-08T23:27:44.150777Z",
     "iopub.status.busy": "2024-12-08T23:27:44.150208Z",
     "iopub.status.idle": "2024-12-08T23:27:44.187385Z",
     "shell.execute_reply": "2024-12-08T23:27:44.186144Z"
    },
    "papermill": {
     "duration": 0.047078,
     "end_time": "2024-12-08T23:27:44.190226",
     "exception": false,
     "start_time": "2024-12-08T23:27:44.143148",
     "status": "completed"
    },
    "tags": []
   },
   "outputs": [],
   "source": [
    "df = pd.read_csv('/kaggle/input/breast-cancer/Breast_Cancer.csv')"
   ]
  },
  {
   "cell_type": "code",
   "execution_count": 3,
   "id": "cfde5871",
   "metadata": {
    "execution": {
     "iopub.execute_input": "2024-12-08T23:27:44.202873Z",
     "iopub.status.busy": "2024-12-08T23:27:44.202441Z",
     "iopub.status.idle": "2024-12-08T23:27:44.231176Z",
     "shell.execute_reply": "2024-12-08T23:27:44.229826Z"
    },
    "papermill": {
     "duration": 0.038196,
     "end_time": "2024-12-08T23:27:44.233811",
     "exception": false,
     "start_time": "2024-12-08T23:27:44.195615",
     "status": "completed"
    },
    "tags": []
   },
   "outputs": [
    {
     "data": {
      "text/html": [
       "<div>\n",
       "<style scoped>\n",
       "    .dataframe tbody tr th:only-of-type {\n",
       "        vertical-align: middle;\n",
       "    }\n",
       "\n",
       "    .dataframe tbody tr th {\n",
       "        vertical-align: top;\n",
       "    }\n",
       "\n",
       "    .dataframe thead th {\n",
       "        text-align: right;\n",
       "    }\n",
       "</style>\n",
       "<table border=\"1\" class=\"dataframe\">\n",
       "  <thead>\n",
       "    <tr style=\"text-align: right;\">\n",
       "      <th></th>\n",
       "      <th>Age</th>\n",
       "      <th>Race</th>\n",
       "      <th>Marital Status</th>\n",
       "      <th>T Stage</th>\n",
       "      <th>N Stage</th>\n",
       "      <th>6th Stage</th>\n",
       "      <th>differentiate</th>\n",
       "      <th>Grade</th>\n",
       "      <th>A Stage</th>\n",
       "      <th>Tumor Size</th>\n",
       "      <th>Estrogen Status</th>\n",
       "      <th>Progesterone Status</th>\n",
       "      <th>Regional Node Examined</th>\n",
       "      <th>Reginol Node Positive</th>\n",
       "      <th>Survival Months</th>\n",
       "      <th>Status</th>\n",
       "    </tr>\n",
       "  </thead>\n",
       "  <tbody>\n",
       "    <tr>\n",
       "      <th>0</th>\n",
       "      <td>68</td>\n",
       "      <td>White</td>\n",
       "      <td>Married</td>\n",
       "      <td>T1</td>\n",
       "      <td>N1</td>\n",
       "      <td>IIA</td>\n",
       "      <td>Poorly differentiated</td>\n",
       "      <td>3</td>\n",
       "      <td>Regional</td>\n",
       "      <td>4</td>\n",
       "      <td>Positive</td>\n",
       "      <td>Positive</td>\n",
       "      <td>24</td>\n",
       "      <td>1</td>\n",
       "      <td>60</td>\n",
       "      <td>Alive</td>\n",
       "    </tr>\n",
       "    <tr>\n",
       "      <th>1</th>\n",
       "      <td>50</td>\n",
       "      <td>White</td>\n",
       "      <td>Married</td>\n",
       "      <td>T2</td>\n",
       "      <td>N2</td>\n",
       "      <td>IIIA</td>\n",
       "      <td>Moderately differentiated</td>\n",
       "      <td>2</td>\n",
       "      <td>Regional</td>\n",
       "      <td>35</td>\n",
       "      <td>Positive</td>\n",
       "      <td>Positive</td>\n",
       "      <td>14</td>\n",
       "      <td>5</td>\n",
       "      <td>62</td>\n",
       "      <td>Alive</td>\n",
       "    </tr>\n",
       "    <tr>\n",
       "      <th>2</th>\n",
       "      <td>58</td>\n",
       "      <td>White</td>\n",
       "      <td>Divorced</td>\n",
       "      <td>T3</td>\n",
       "      <td>N3</td>\n",
       "      <td>IIIC</td>\n",
       "      <td>Moderately differentiated</td>\n",
       "      <td>2</td>\n",
       "      <td>Regional</td>\n",
       "      <td>63</td>\n",
       "      <td>Positive</td>\n",
       "      <td>Positive</td>\n",
       "      <td>14</td>\n",
       "      <td>7</td>\n",
       "      <td>75</td>\n",
       "      <td>Alive</td>\n",
       "    </tr>\n",
       "    <tr>\n",
       "      <th>3</th>\n",
       "      <td>58</td>\n",
       "      <td>White</td>\n",
       "      <td>Married</td>\n",
       "      <td>T1</td>\n",
       "      <td>N1</td>\n",
       "      <td>IIA</td>\n",
       "      <td>Poorly differentiated</td>\n",
       "      <td>3</td>\n",
       "      <td>Regional</td>\n",
       "      <td>18</td>\n",
       "      <td>Positive</td>\n",
       "      <td>Positive</td>\n",
       "      <td>2</td>\n",
       "      <td>1</td>\n",
       "      <td>84</td>\n",
       "      <td>Alive</td>\n",
       "    </tr>\n",
       "    <tr>\n",
       "      <th>4</th>\n",
       "      <td>47</td>\n",
       "      <td>White</td>\n",
       "      <td>Married</td>\n",
       "      <td>T2</td>\n",
       "      <td>N1</td>\n",
       "      <td>IIB</td>\n",
       "      <td>Poorly differentiated</td>\n",
       "      <td>3</td>\n",
       "      <td>Regional</td>\n",
       "      <td>41</td>\n",
       "      <td>Positive</td>\n",
       "      <td>Positive</td>\n",
       "      <td>3</td>\n",
       "      <td>1</td>\n",
       "      <td>50</td>\n",
       "      <td>Alive</td>\n",
       "    </tr>\n",
       "  </tbody>\n",
       "</table>\n",
       "</div>"
      ],
      "text/plain": [
       "   Age   Race Marital Status T Stage  N Stage 6th Stage  \\\n",
       "0   68  White        Married       T1      N1       IIA   \n",
       "1   50  White        Married       T2      N2      IIIA   \n",
       "2   58  White       Divorced       T3      N3      IIIC   \n",
       "3   58  White        Married       T1      N1       IIA   \n",
       "4   47  White        Married       T2      N1       IIB   \n",
       "\n",
       "               differentiate Grade   A Stage  Tumor Size Estrogen Status  \\\n",
       "0      Poorly differentiated     3  Regional           4        Positive   \n",
       "1  Moderately differentiated     2  Regional          35        Positive   \n",
       "2  Moderately differentiated     2  Regional          63        Positive   \n",
       "3      Poorly differentiated     3  Regional          18        Positive   \n",
       "4      Poorly differentiated     3  Regional          41        Positive   \n",
       "\n",
       "  Progesterone Status  Regional Node Examined  Reginol Node Positive  \\\n",
       "0            Positive                      24                      1   \n",
       "1            Positive                      14                      5   \n",
       "2            Positive                      14                      7   \n",
       "3            Positive                       2                      1   \n",
       "4            Positive                       3                      1   \n",
       "\n",
       "   Survival Months Status  \n",
       "0               60  Alive  \n",
       "1               62  Alive  \n",
       "2               75  Alive  \n",
       "3               84  Alive  \n",
       "4               50  Alive  "
      ]
     },
     "execution_count": 3,
     "metadata": {},
     "output_type": "execute_result"
    }
   ],
   "source": [
    "df.head()"
   ]
  },
  {
   "cell_type": "code",
   "execution_count": 4,
   "id": "87fe0d2d",
   "metadata": {
    "execution": {
     "iopub.execute_input": "2024-12-08T23:27:44.247017Z",
     "iopub.status.busy": "2024-12-08T23:27:44.246610Z",
     "iopub.status.idle": "2024-12-08T23:27:44.279250Z",
     "shell.execute_reply": "2024-12-08T23:27:44.277743Z"
    },
    "papermill": {
     "duration": 0.04146,
     "end_time": "2024-12-08T23:27:44.281742",
     "exception": false,
     "start_time": "2024-12-08T23:27:44.240282",
     "status": "completed"
    },
    "tags": []
   },
   "outputs": [
    {
     "name": "stdout",
     "output_type": "stream",
     "text": [
      "<class 'pandas.core.frame.DataFrame'>\n",
      "RangeIndex: 4024 entries, 0 to 4023\n",
      "Data columns (total 16 columns):\n",
      " #   Column                  Non-Null Count  Dtype \n",
      "---  ------                  --------------  ----- \n",
      " 0   Age                     4024 non-null   int64 \n",
      " 1   Race                    4024 non-null   object\n",
      " 2   Marital Status          4024 non-null   object\n",
      " 3   T Stage                 4024 non-null   object\n",
      " 4   N Stage                 4024 non-null   object\n",
      " 5   6th Stage               4024 non-null   object\n",
      " 6   differentiate           4024 non-null   object\n",
      " 7   Grade                   4024 non-null   object\n",
      " 8   A Stage                 4024 non-null   object\n",
      " 9   Tumor Size              4024 non-null   int64 \n",
      " 10  Estrogen Status         4024 non-null   object\n",
      " 11  Progesterone Status     4024 non-null   object\n",
      " 12  Regional Node Examined  4024 non-null   int64 \n",
      " 13  Reginol Node Positive   4024 non-null   int64 \n",
      " 14  Survival Months         4024 non-null   int64 \n",
      " 15  Status                  4024 non-null   object\n",
      "dtypes: int64(5), object(11)\n",
      "memory usage: 503.1+ KB\n"
     ]
    }
   ],
   "source": [
    "df.info()"
   ]
  },
  {
   "cell_type": "code",
   "execution_count": 5,
   "id": "33b39650",
   "metadata": {
    "execution": {
     "iopub.execute_input": "2024-12-08T23:27:44.294134Z",
     "iopub.status.busy": "2024-12-08T23:27:44.293750Z",
     "iopub.status.idle": "2024-12-08T23:27:44.518230Z",
     "shell.execute_reply": "2024-12-08T23:27:44.516847Z"
    },
    "papermill": {
     "duration": 0.235095,
     "end_time": "2024-12-08T23:27:44.522139",
     "exception": false,
     "start_time": "2024-12-08T23:27:44.287044",
     "status": "completed"
    },
    "tags": []
   },
   "outputs": [
    {
     "data": {
      "text/plain": [
       "<Axes: xlabel='Status', ylabel='count'>"
      ]
     },
     "execution_count": 5,
     "metadata": {},
     "output_type": "execute_result"
    },
    {
     "data": {
      "image/png": "[encoded data removed]",
      "text/plain": [
       "<Figure size 640x480 with 1 Axes>"
      ]
     },
     "metadata": {},
     "output_type": "display_data"
    }
   ],
   "source": [
    "sns.countplot(data=df , x='Status')"
   ]
  },
  {
   "cell_type": "code",
   "execution_count": null,
   "id": "d0df65b7",
   "metadata": {
    "papermill": {
     "duration": 0.005227,
     "end_time": "2024-12-08T23:27:44.533174",
     "exception": false,
     "start_time": "2024-12-08T23:27:44.527947",
     "status": "completed"
    },
    "tags": []
   },
   "outputs": [],
   "source": []
  },
  {
   "cell_type": "code",
   "execution_count": 6,
   "id": "2402a35a",
   "metadata": {
    "execution": {
     "iopub.execute_input": "2024-12-08T23:27:44.554487Z",
     "iopub.status.busy": "2024-12-08T23:27:44.553579Z",
     "iopub.status.idle": "2024-12-08T23:27:44.567805Z",
     "shell.execute_reply": "2024-12-08T23:27:44.565285Z"
    },
    "papermill": {
     "duration": 0.033014,
     "end_time": "2024-12-08T23:27:44.573244",
     "exception": false,
     "start_time": "2024-12-08T23:27:44.540230",
     "status": "completed"
    },
    "tags": []
   },
   "outputs": [
    {
     "data": {
      "text/plain": [
       "Status\n",
       "Alive    3408\n",
       "Dead      616\n",
       "Name: count, dtype: int64"
      ]
     },
     "execution_count": 6,
     "metadata": {},
     "output_type": "execute_result"
    }
   ],
   "source": [
    "df.Status.value_counts()"
   ]
  },
  {
   "cell_type": "code",
   "execution_count": 7,
   "id": "ccd2cab1",
   "metadata": {
    "execution": {
     "iopub.execute_input": "2024-12-08T23:27:44.593990Z",
     "iopub.status.busy": "2024-12-08T23:27:44.592461Z",
     "iopub.status.idle": "2024-12-08T23:27:44.630271Z",
     "shell.execute_reply": "2024-12-08T23:27:44.628438Z"
    },
    "papermill": {
     "duration": 0.051828,
     "end_time": "2024-12-08T23:27:44.634383",
     "exception": false,
     "start_time": "2024-12-08T23:27:44.582555",
     "status": "completed"
    },
    "tags": []
   },
   "outputs": [
    {
     "data": {
      "text/html": [
       "<div>\n",
       "<style scoped>\n",
       "    .dataframe tbody tr th:only-of-type {\n",
       "        vertical-align: middle;\n",
       "    }\n",
       "\n",
       "    .dataframe tbody tr th {\n",
       "        vertical-align: top;\n",
       "    }\n",
       "\n",
       "    .dataframe thead th {\n",
       "        text-align: right;\n",
       "    }\n",
       "</style>\n",
       "<table border=\"1\" class=\"dataframe\">\n",
       "  <thead>\n",
       "    <tr style=\"text-align: right;\">\n",
       "      <th></th>\n",
       "      <th>Age</th>\n",
       "      <th>Tumor Size</th>\n",
       "      <th>Regional Node Examined</th>\n",
       "      <th>Reginol Node Positive</th>\n",
       "      <th>Survival Months</th>\n",
       "    </tr>\n",
       "  </thead>\n",
       "  <tbody>\n",
       "    <tr>\n",
       "      <th>count</th>\n",
       "      <td>4024.000000</td>\n",
       "      <td>4024.000000</td>\n",
       "      <td>4024.000000</td>\n",
       "      <td>4024.000000</td>\n",
       "      <td>4024.000000</td>\n",
       "    </tr>\n",
       "    <tr>\n",
       "      <th>mean</th>\n",
       "      <td>53.972167</td>\n",
       "      <td>30.473658</td>\n",
       "      <td>14.357107</td>\n",
       "      <td>4.158052</td>\n",
       "      <td>71.297962</td>\n",
       "    </tr>\n",
       "    <tr>\n",
       "      <th>std</th>\n",
       "      <td>8.963134</td>\n",
       "      <td>21.119696</td>\n",
       "      <td>8.099675</td>\n",
       "      <td>5.109331</td>\n",
       "      <td>22.921430</td>\n",
       "    </tr>\n",
       "    <tr>\n",
       "      <th>min</th>\n",
       "      <td>30.000000</td>\n",
       "      <td>1.000000</td>\n",
       "      <td>1.000000</td>\n",
       "      <td>1.000000</td>\n",
       "      <td>1.000000</td>\n",
       "    </tr>\n",
       "    <tr>\n",
       "      <th>25%</th>\n",
       "      <td>47.000000</td>\n",
       "      <td>16.000000</td>\n",
       "      <td>9.000000</td>\n",
       "      <td>1.000000</td>\n",
       "      <td>56.000000</td>\n",
       "    </tr>\n",
       "    <tr>\n",
       "      <th>50%</th>\n",
       "      <td>54.000000</td>\n",
       "      <td>25.000000</td>\n",
       "      <td>14.000000</td>\n",
       "      <td>2.000000</td>\n",
       "      <td>73.000000</td>\n",
       "    </tr>\n",
       "    <tr>\n",
       "      <th>75%</th>\n",
       "      <td>61.000000</td>\n",
       "      <td>38.000000</td>\n",
       "      <td>19.000000</td>\n",
       "      <td>5.000000</td>\n",
       "      <td>90.000000</td>\n",
       "    </tr>\n",
       "    <tr>\n",
       "      <th>max</th>\n",
       "      <td>69.000000</td>\n",
       "      <td>140.000000</td>\n",
       "      <td>61.000000</td>\n",
       "      <td>46.000000</td>\n",
       "      <td>107.000000</td>\n",
       "    </tr>\n",
       "  </tbody>\n",
       "</table>\n",
       "</div>"
      ],
      "text/plain": [
       "               Age   Tumor Size  Regional Node Examined  \\\n",
       "count  4024.000000  4024.000000             4024.000000   \n",
       "mean     53.972167    30.473658               14.357107   \n",
       "std       8.963134    21.119696                8.099675   \n",
       "min      30.000000     1.000000                1.000000   \n",
       "25%      47.000000    16.000000                9.000000   \n",
       "50%      54.000000    25.000000               14.000000   \n",
       "75%      61.000000    38.000000               19.000000   \n",
       "max      69.000000   140.000000               61.000000   \n",
       "\n",
       "       Reginol Node Positive  Survival Months  \n",
       "count            4024.000000      4024.000000  \n",
       "mean                4.158052        71.297962  \n",
       "std                 5.109331        22.921430  \n",
       "min                 1.000000         1.000000  \n",
       "25%                 1.000000        56.000000  \n",
       "50%                 2.000000        73.000000  \n",
       "75%                 5.000000        90.000000  \n",
       "max                46.000000       107.000000  "
      ]
     },
     "execution_count": 7,
     "metadata": {},
     "output_type": "execute_result"
    }
   ],
   "source": [
    "df.describe()"
   ]
  },
  {
   "cell_type": "code",
   "execution_count": 8,
   "id": "8e03f6b2",
   "metadata": {
    "execution": {
     "iopub.execute_input": "2024-12-08T23:27:44.650033Z",
     "iopub.status.busy": "2024-12-08T23:27:44.649617Z",
     "iopub.status.idle": "2024-12-08T23:27:44.656989Z",
     "shell.execute_reply": "2024-12-08T23:27:44.655584Z"
    },
    "papermill": {
     "duration": 0.017594,
     "end_time": "2024-12-08T23:27:44.659453",
     "exception": false,
     "start_time": "2024-12-08T23:27:44.641859",
     "status": "completed"
    },
    "tags": []
   },
   "outputs": [],
   "source": [
    "ec = LabelEncoder()\n",
    "dfobj=df.select_dtypes(include='object')\n",
    "dfint=df.select_dtypes(exclude='object')"
   ]
  },
  {
   "cell_type": "code",
   "execution_count": 9,
   "id": "9e704ecc",
   "metadata": {
    "execution": {
     "iopub.execute_input": "2024-12-08T23:27:44.673761Z",
     "iopub.status.busy": "2024-12-08T23:27:44.673310Z",
     "iopub.status.idle": "2024-12-08T23:27:44.693728Z",
     "shell.execute_reply": "2024-12-08T23:27:44.692691Z"
    },
    "papermill": {
     "duration": 0.030921,
     "end_time": "2024-12-08T23:27:44.696355",
     "exception": false,
     "start_time": "2024-12-08T23:27:44.665434",
     "status": "completed"
    },
    "tags": []
   },
   "outputs": [],
   "source": [
    "for i in range(0,dfobj.shape[1]):\n",
    "   dfobj.iloc[:,i]=ec.fit_transform(dfobj.iloc[:,i])"
   ]
  },
  {
   "cell_type": "code",
   "execution_count": 10,
   "id": "2cbeca64",
   "metadata": {
    "execution": {
     "iopub.execute_input": "2024-12-08T23:27:44.711546Z",
     "iopub.status.busy": "2024-12-08T23:27:44.711155Z",
     "iopub.status.idle": "2024-12-08T23:27:44.718632Z",
     "shell.execute_reply": "2024-12-08T23:27:44.716790Z"
    },
    "papermill": {
     "duration": 0.018639,
     "end_time": "2024-12-08T23:27:44.721392",
     "exception": false,
     "start_time": "2024-12-08T23:27:44.702753",
     "status": "completed"
    },
    "tags": []
   },
   "outputs": [],
   "source": [
    "dfobj=dfobj.astype(\"int\")"
   ]
  },
  {
   "cell_type": "code",
   "execution_count": 11,
   "id": "16471c01",
   "metadata": {
    "execution": {
     "iopub.execute_input": "2024-12-08T23:27:44.741723Z",
     "iopub.status.busy": "2024-12-08T23:27:44.741292Z",
     "iopub.status.idle": "2024-12-08T23:27:44.762298Z",
     "shell.execute_reply": "2024-12-08T23:27:44.760282Z"
    },
    "papermill": {
     "duration": 0.034153,
     "end_time": "2024-12-08T23:27:44.766313",
     "exception": false,
     "start_time": "2024-12-08T23:27:44.732160",
     "status": "completed"
    },
    "tags": []
   },
   "outputs": [
    {
     "name": "stdout",
     "output_type": "stream",
     "text": [
      "<class 'pandas.core.frame.DataFrame'>\n",
      "RangeIndex: 4024 entries, 0 to 4023\n",
      "Data columns (total 16 columns):\n",
      " #   Column                  Non-Null Count  Dtype\n",
      "---  ------                  --------------  -----\n",
      " 0   Race                    4024 non-null   int64\n",
      " 1   Marital Status          4024 non-null   int64\n",
      " 2   T Stage                 4024 non-null   int64\n",
      " 3   N Stage                 4024 non-null   int64\n",
      " 4   6th Stage               4024 non-null   int64\n",
      " 5   differentiate           4024 non-null   int64\n",
      " 6   Grade                   4024 non-null   int64\n",
      " 7   A Stage                 4024 non-null   int64\n",
      " 8   Estrogen Status         4024 non-null   int64\n",
      " 9   Progesterone Status     4024 non-null   int64\n",
      " 10  Status                  4024 non-null   int64\n",
      " 11  Age                     4024 non-null   int64\n",
      " 12  Tumor Size              4024 non-null   int64\n",
      " 13  Regional Node Examined  4024 non-null   int64\n",
      " 14  Reginol Node Positive   4024 non-null   int64\n",
      " 15  Survival Months         4024 non-null   int64\n",
      "dtypes: int64(16)\n",
      "memory usage: 503.1 KB\n"
     ]
    }
   ],
   "source": [
    "data = pd.concat([dfobj,dfint] , axis=1)\n",
    "data.info()"
   ]
  },
  {
   "cell_type": "code",
   "execution_count": 12,
   "id": "4a3f1352",
   "metadata": {
    "execution": {
     "iopub.execute_input": "2024-12-08T23:27:44.782749Z",
     "iopub.status.busy": "2024-12-08T23:27:44.782264Z",
     "iopub.status.idle": "2024-12-08T23:27:44.804127Z",
     "shell.execute_reply": "2024-12-08T23:27:44.802752Z"
    },
    "papermill": {
     "duration": 0.033975,
     "end_time": "2024-12-08T23:27:44.807661",
     "exception": false,
     "start_time": "2024-12-08T23:27:44.773686",
     "status": "completed"
    },
    "tags": []
   },
   "outputs": [],
   "source": [
    "x=data.drop(['Status'] , axis=1)\n",
    "y=data.Status\n",
    "\n",
    "rs = RandomOverSampler(random_state=20)\n",
    "x_res,y_res = rs.fit_resample(x,y)"
   ]
  },
  {
   "cell_type": "code",
   "execution_count": 13,
   "id": "1c060c99",
   "metadata": {
    "execution": {
     "iopub.execute_input": "2024-12-08T23:27:44.822914Z",
     "iopub.status.busy": "2024-12-08T23:27:44.821672Z",
     "iopub.status.idle": "2024-12-08T23:27:44.831513Z",
     "shell.execute_reply": "2024-12-08T23:27:44.830310Z"
    },
    "papermill": {
     "duration": 0.019828,
     "end_time": "2024-12-08T23:27:44.833890",
     "exception": false,
     "start_time": "2024-12-08T23:27:44.814062",
     "status": "completed"
    },
    "tags": []
   },
   "outputs": [],
   "source": [
    "x_train,x_test,y_train,y_test = train_test_split(x_res,y_res,test_size=0.2 ,random_state=10)"
   ]
  },
  {
   "cell_type": "code",
   "execution_count": 14,
   "id": "547f616c",
   "metadata": {
    "execution": {
     "iopub.execute_input": "2024-12-08T23:27:44.847643Z",
     "iopub.status.busy": "2024-12-08T23:27:44.847208Z",
     "iopub.status.idle": "2024-12-08T23:27:44.852867Z",
     "shell.execute_reply": "2024-12-08T23:27:44.851751Z"
    },
    "papermill": {
     "duration": 0.015311,
     "end_time": "2024-12-08T23:27:44.855247",
     "exception": false,
     "start_time": "2024-12-08T23:27:44.839936",
     "status": "completed"
    },
    "tags": []
   },
   "outputs": [],
   "source": [
    "model1=LogisticRegression()\n",
    "model2=GradientBoostingRegressor()\n",
    "model3=RandomForestClassifier()\n",
    "model4=SVC()\n",
    "model5=XGBClassifier()\n",
    "model6=KNeighborsClassifier()"
   ]
  },
  {
   "cell_type": "code",
   "execution_count": 15,
   "id": "430782d6",
   "metadata": {
    "execution": {
     "iopub.execute_input": "2024-12-08T23:27:44.869417Z",
     "iopub.status.busy": "2024-12-08T23:27:44.868352Z",
     "iopub.status.idle": "2024-12-08T23:27:45.101073Z",
     "shell.execute_reply": "2024-12-08T23:27:45.098436Z"
    },
    "papermill": {
     "duration": 0.243756,
     "end_time": "2024-12-08T23:27:45.104989",
     "exception": false,
     "start_time": "2024-12-08T23:27:44.861233",
     "status": "completed"
    },
    "tags": []
   },
   "outputs": [
    {
     "name": "stdout",
     "output_type": "stream",
     "text": [
      "              precision    recall  f1-score   support\n",
      "\n",
      "           0       0.78      0.84      0.81       667\n",
      "           1       0.83      0.78      0.80       697\n",
      "\n",
      "    accuracy                           0.81      1364\n",
      "   macro avg       0.81      0.81      0.81      1364\n",
      "weighted avg       0.81      0.81      0.81      1364\n",
      "\n"
     ]
    }
   ],
   "source": [
    "model1.fit(x_train,y_train)\n",
    "pre = model1.predict(x_test)\n",
    "print(classification_report(y_test,pre))\n"
   ]
  },
  {
   "cell_type": "code",
   "execution_count": 16,
   "id": "500028d5",
   "metadata": {
    "execution": {
     "iopub.execute_input": "2024-12-08T23:27:45.131318Z",
     "iopub.status.busy": "2024-12-08T23:27:45.130753Z",
     "iopub.status.idle": "2024-12-08T23:27:45.140036Z",
     "shell.execute_reply": "2024-12-08T23:27:45.136255Z"
    },
    "papermill": {
     "duration": 0.026348,
     "end_time": "2024-12-08T23:27:45.143558",
     "exception": false,
     "start_time": "2024-12-08T23:27:45.117210",
     "status": "completed"
    },
    "tags": []
   },
   "outputs": [],
   "source": [
    "def pred(model):\n",
    "    model.fit(x_train,y_train)\n",
    "    pre = model.predict(x_test)\n",
    "    print(classification_report(y_test,pre))"
   ]
  },
  {
   "cell_type": "code",
   "execution_count": 17,
   "id": "3d0be806",
   "metadata": {
    "execution": {
     "iopub.execute_input": "2024-12-08T23:27:45.168253Z",
     "iopub.status.busy": "2024-12-08T23:27:45.167680Z",
     "iopub.status.idle": "2024-12-08T23:27:45.289738Z",
     "shell.execute_reply": "2024-12-08T23:27:45.285742Z"
    },
    "papermill": {
     "duration": 0.138943,
     "end_time": "2024-12-08T23:27:45.293588",
     "exception": false,
     "start_time": "2024-12-08T23:27:45.154645",
     "status": "completed"
    },
    "tags": []
   },
   "outputs": [
    {
     "name": "stdout",
     "output_type": "stream",
     "text": [
      "              precision    recall  f1-score   support\n",
      "\n",
      "           0       0.78      0.84      0.81       667\n",
      "           1       0.83      0.78      0.80       697\n",
      "\n",
      "    accuracy                           0.81      1364\n",
      "   macro avg       0.81      0.81      0.81      1364\n",
      "weighted avg       0.81      0.81      0.81      1364\n",
      "\n"
     ]
    }
   ],
   "source": [
    "pred(model1)"
   ]
  },
  {
   "cell_type": "code",
   "execution_count": 18,
   "id": "775ca494",
   "metadata": {
    "execution": {
     "iopub.execute_input": "2024-12-08T23:27:45.319722Z",
     "iopub.status.busy": "2024-12-08T23:27:45.319126Z",
     "iopub.status.idle": "2024-12-08T23:27:46.002435Z",
     "shell.execute_reply": "2024-12-08T23:27:46.000878Z"
    },
    "papermill": {
     "duration": 0.699493,
     "end_time": "2024-12-08T23:27:46.005154",
     "exception": false,
     "start_time": "2024-12-08T23:27:45.305661",
     "status": "completed"
    },
    "tags": []
   },
   "outputs": [
    {
     "name": "stdout",
     "output_type": "stream",
     "text": [
      "              precision    recall  f1-score   support\n",
      "\n",
      "           0       0.98      0.97      0.98       667\n",
      "           1       0.97      0.99      0.98       697\n",
      "\n",
      "    accuracy                           0.98      1364\n",
      "   macro avg       0.98      0.98      0.98      1364\n",
      "weighted avg       0.98      0.98      0.98      1364\n",
      "\n"
     ]
    }
   ],
   "source": [
    "pred(model3)"
   ]
  },
  {
   "cell_type": "code",
   "execution_count": 19,
   "id": "35c2a0d6",
   "metadata": {
    "execution": {
     "iopub.execute_input": "2024-12-08T23:27:46.020606Z",
     "iopub.status.busy": "2024-12-08T23:27:46.020189Z",
     "iopub.status.idle": "2024-12-08T23:27:47.247045Z",
     "shell.execute_reply": "2024-12-08T23:27:47.245186Z"
    },
    "papermill": {
     "duration": 1.238085,
     "end_time": "2024-12-08T23:27:47.249845",
     "exception": false,
     "start_time": "2024-12-08T23:27:46.011760",
     "status": "completed"
    },
    "tags": []
   },
   "outputs": [
    {
     "name": "stdout",
     "output_type": "stream",
     "text": [
      "              precision    recall  f1-score   support\n",
      "\n",
      "           0       0.76      0.88      0.81       667\n",
      "           1       0.87      0.73      0.79       697\n",
      "\n",
      "    accuracy                           0.80      1364\n",
      "   macro avg       0.81      0.80      0.80      1364\n",
      "weighted avg       0.81      0.80      0.80      1364\n",
      "\n"
     ]
    }
   ],
   "source": [
    "pred(model4)"
   ]
  },
  {
   "cell_type": "code",
   "execution_count": 20,
   "id": "14d42f24",
   "metadata": {
    "execution": {
     "iopub.execute_input": "2024-12-08T23:27:47.266942Z",
     "iopub.status.busy": "2024-12-08T23:27:47.266540Z",
     "iopub.status.idle": "2024-12-08T23:27:47.457252Z",
     "shell.execute_reply": "2024-12-08T23:27:47.456003Z"
    },
    "papermill": {
     "duration": 0.203347,
     "end_time": "2024-12-08T23:27:47.460044",
     "exception": false,
     "start_time": "2024-12-08T23:27:47.256697",
     "status": "completed"
    },
    "tags": []
   },
   "outputs": [
    {
     "name": "stdout",
     "output_type": "stream",
     "text": [
      "              precision    recall  f1-score   support\n",
      "\n",
      "           0       0.97      0.94      0.95       667\n",
      "           1       0.94      0.97      0.96       697\n",
      "\n",
      "    accuracy                           0.95      1364\n",
      "   macro avg       0.96      0.95      0.95      1364\n",
      "weighted avg       0.95      0.95      0.95      1364\n",
      "\n"
     ]
    }
   ],
   "source": [
    "pred(model5)"
   ]
  },
  {
   "cell_type": "code",
   "execution_count": 21,
   "id": "048eb923",
   "metadata": {
    "execution": {
     "iopub.execute_input": "2024-12-08T23:27:47.474308Z",
     "iopub.status.busy": "2024-12-08T23:27:47.473924Z",
     "iopub.status.idle": "2024-12-08T23:27:47.583833Z",
     "shell.execute_reply": "2024-12-08T23:27:47.582554Z"
    },
    "papermill": {
     "duration": 0.120534,
     "end_time": "2024-12-08T23:27:47.586916",
     "exception": false,
     "start_time": "2024-12-08T23:27:47.466382",
     "status": "completed"
    },
    "tags": []
   },
   "outputs": [
    {
     "name": "stdout",
     "output_type": "stream",
     "text": [
      "              precision    recall  f1-score   support\n",
      "\n",
      "           0       0.91      0.80      0.85       667\n",
      "           1       0.83      0.93      0.88       697\n",
      "\n",
      "    accuracy                           0.87      1364\n",
      "   macro avg       0.87      0.86      0.86      1364\n",
      "weighted avg       0.87      0.87      0.87      1364\n",
      "\n"
     ]
    }
   ],
   "source": [
    "pred(model6)"
   ]
  }
 ],
 "metadata": {
  "kaggle": {
   "accelerator": "none",
   "dataSources": [
    {
     "datasetId": 2396275,
     "sourceId": 4045493,
     "sourceType": "datasetVersion"
    }
   ],
   "dockerImageVersionId": 30804,
   "isGpuEnabled": false,
   "isInternetEnabled": false,
   "language": "python",
   "sourceType": "notebook"
  },
  "kernelspec": {
   "display_name": "Python 3",
   "language": "python",
   "name": "python3"
  },
  "language_info": {
   "codemirror_mode": {
    "name": "ipython",
    "version": 3
   },
   "file_extension": ".py",
   "mimetype": "text/x-python",
   "name": "python",
   "nbconvert_exporter": "python",
   "pygments_lexer": "ipython3",
   "version": "3.10.14"
  },
  "papermill": {
   "default_parameters": {},
   "duration": 11.346908,
   "end_time": "2024-12-08T23:27:48.316134",
   "environment_variables": {},
   "exception": null,
   "input_path": "__notebook__.ipynb",
   "output_path": "__notebook__.ipynb",
   "parameters": {},
   "start_time": "2024-12-08T23:27:36.969226",
   "version": "2.6.0"
  }
 },
 "nbformat": 4,
 "nbformat_minor": 5
}
